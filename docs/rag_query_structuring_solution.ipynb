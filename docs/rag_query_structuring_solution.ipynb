{
 "cells": [
  {
   "cell_type": "markdown",
   "metadata": {
    "vscode": {
     "languageId": "plaintext"
    }
   },
   "source": [
    "# RAG - Structuration des Requêtes\n",
    "\n",
    "Les systèmes RAG se sont révélés très puissants pour enrichir les modèles de génération en langage naturel, en leur permettant d'accéder à des bases de documents textuels. Cependant, la véritable force des RAG réside dans leur capacité à interagir non seulement avec des documents statiques, mais également avec des bases de données complexes et dynamiques. Cette connexion offre un potentiel immense, car elle permet d'interroger des données structurées via des requêtes, ouvrant la porte à des réponses plus précises et à jour. Structurer ces requêtes de manière efficace devient alors un enjeu clé dans la mise en œuvre des systèmes RAG capables d'aller au-delà du texte brut, en accédant à des informations spécifiques et pertinentes à partir de vastes ensembles de données.\n",
    "\n",
    "![](https://i.ibb.co/ysfSWZY/RAG-10.png)\n",
    "\n",
    "**Objectifs :** Dans ce notebook, nous explorerons les techniques et les approches pour structurer ces requêtes, garantissant une interaction fluide et pertinente avec les bases de données dans un contexte de génération augmentée par la récupération.\n",
    "\n",
    "\n",
    "#### 0. Préparation\n",
    "\n",
    "Installons d'abord quelques dépendances nécessaires :"
   ]
  },
  {
   "cell_type": "code",
   "execution_count": null,
   "metadata": {},
   "outputs": [],
   "source": [
    "!pip install pytube youtube-transcript-api"
   ]
  },
  {
   "cell_type": "markdown",
   "metadata": {},
   "source": [
    "Dans ce notebook, nous utiliserons l'API d'OpenAI, vous devez vous inscrire sur [**OpenAI**](https://beta.openai.com/signup/) et [**récupérer une clé d'API**](https://platform.openai.com/api-keys).   \n",
    "\n",
    "Pour surveiller les appels faits aux modèles LLMs, nous vous conseillons aussi d'utiliser LangSmith. Vous devrez [**générer une clé d'API LangSmith**](https://smith.langchain.com/settings) puis activer le traçage.\n",
    "\n",
    "Une fois les clés obtenues, ajoutez-les à vos variables d'environnement :"
   ]
  },
  {
   "cell_type": "code",
   "execution_count": 6,
   "metadata": {},
   "outputs": [],
   "source": [
    "import os\n",
    "\n",
    "# Remplacez \"<votre_cle_openai>\" par votre clé API OpenAI\n",
    "os.environ[\"OPENAI_API_KEY\"] = \"<votre_cle_openai>\"\n",
    "\n",
    "# Remplacez \"<votre_cle_langsmith>\" par votre clé API LangSmith\n",
    "os.environ['LANGCHAIN_TRACING_V2'] = \"false\"\n",
    "os.environ['LANGCHAIN_API_KEY'] = \"<votre_cle_langsmith>\""
   ]
  },
  {
   "cell_type": "markdown",
   "metadata": {},
   "source": [
    "### 1. Exemple : Base de vidéos Youtube\n",
    "\n",
    "Prenons l'exemple d'une base de données de vidéos. Grâce à LangChain, nous pouvons récupérer le transcript d'une vidéo Youtube ainsi que les métadonnées associées :"
   ]
  },
  {
   "cell_type": "code",
   "execution_count": null,
   "metadata": {},
   "outputs": [],
   "source": [
    "from langchain_community.document_loaders import YoutubeLoader\n",
    "\n",
    "yt_url = \"https://www.youtube.com/watch?v=pbAd8O1Lvm4\"\n",
    "\n",
    "docs = YoutubeLoader.from_youtube_url(yt_url, add_video_info=True).load()\n",
    "\n",
    "docs[0].metadata"
   ]
  },
  {
   "cell_type": "markdown",
   "metadata": {},
   "source": [
    "A partir de ces données, nous pourrions construire une base de données de vidéos avec les attributs suivants :\n",
    "\n",
    "| Titre | Description | Nombre de Vues | Date de Publication | Durée | Transcription |\n",
    "|-------|-------------|----------------|---------------------|-------|---------------|\n",
    "| ...   | ...         | ...            | ...                 | ...   | ...           |\n",
    "\n",
    "\n",
    "Afin de générer des requêtes structurées, nous devons d'abord définir notre schéma de requête. Nous pouvons voir que chaque document possède un titre, un nombre de vues, une date de publication, et une durée en secondes. Supposons que nous avons construit un index qui nous permet d'effectuer une recherche non structurée sur le contenu et le titre de chaque document, et d'utiliser le filtrage par plages sur le nombre de vues, la date de publication, et la durée.\n",
    "\n",
    "Pour commencer, nous allons créer un schéma avec des attributs explicites pour les valeurs minimum et maximum du nombre de vues, de la date de publication, et de la durée de la vidéo afin de pouvoir filtrer selon ces critères. Nous ajouterons également des attributs distincts pour les recherches effectuées sur le contenu de la transcription par rapport au titre de la vidéo."
   ]
  },
  {
   "cell_type": "code",
   "execution_count": 8,
   "metadata": {},
   "outputs": [],
   "source": [
    "import datetime\n",
    "from typing import Optional\n",
    "\n",
    "from langchain_core.pydantic_v1 import BaseModel, Field\n",
    "\n",
    "\n",
    "class YoutubeDBSearch(BaseModel):\n",
    "    \"\"\"Search over a database of videos.\"\"\"\n",
    "\n",
    "    content_search: str = Field(\n",
    "        ...,\n",
    "        description=\"Similarity search query applied to video transcripts.\",\n",
    "    )\n",
    "    title_search: str = Field(\n",
    "        ...,\n",
    "        description=(\n",
    "            \"Alternate version of the content search query to apply to video titles. \"\n",
    "            \"Should be succinct and only include key words that could be in a video \"\n",
    "            \"title.\"\n",
    "        ),\n",
    "    )\n",
    "    min_view_count: Optional[int] = Field(\n",
    "        None,\n",
    "        description=\"Minimum view count filter, inclusive. Only use if explicitly specified.\",\n",
    "    )\n",
    "    max_view_count: Optional[int] = Field(\n",
    "        None,\n",
    "        description=\"Maximum view count filter, exclusive. Only use if explicitly specified.\",\n",
    "    )\n",
    "    earliest_publish_date: Optional[datetime.date] = Field(\n",
    "        None,\n",
    "        description=\"Earliest publish date filter, inclusive. Only use if explicitly specified.\",\n",
    "    )\n",
    "    latest_publish_date: Optional[datetime.date] = Field(\n",
    "        None,\n",
    "        description=\"Latest publish date filter, exclusive. Only use if explicitly specified.\",\n",
    "    )\n",
    "    min_length_sec: Optional[int] = Field(\n",
    "        None,\n",
    "        description=\"Minimum video length in seconds, inclusive. Only use if explicitly specified.\",\n",
    "    )\n",
    "    max_length_sec: Optional[int] = Field(\n",
    "        None,\n",
    "        description=\"Maximum video length in seconds, exclusive. Only use if explicitly specified.\",\n",
    "    )\n",
    "\n",
    "    def pretty_print(self) -> None:\n",
    "        for field in self.__fields__:\n",
    "            if getattr(self, field) is not None and getattr(self, field) != getattr(\n",
    "                self.__fields__[field], \"default\", None\n",
    "            ):\n",
    "                print(f\"{field}: {getattr(self, field)}\")"
   ]
  },
  {
   "cell_type": "markdown",
   "metadata": {},
   "source": [
    "Nous pouvons ensuite utiliser ce schéma pour transformer une requête utilisateur en une requête structurée qui exploite les différents attributs de notre base de données :\n",
    "```"
   ]
  },
  {
   "cell_type": "code",
   "execution_count": 9,
   "metadata": {},
   "outputs": [],
   "source": [
    "from langchain_core.prompts import ChatPromptTemplate\n",
    "from langchain_openai import ChatOpenAI\n",
    "\n",
    "def get_youtube_db_query(question):\n",
    "    system = \"\"\"You are an expert at converting user questions into database queries. \\\n",
    "    You have access to a database of tutorial videos about a software library for building LLM-powered applications. \\\n",
    "    Given a question, return a database query optimized to retrieve the most relevant results.\n",
    "\n",
    "    If there are acronyms or words you are not familiar with, do not try to rephrase them.\"\"\"\n",
    "\n",
    "    prompt = ChatPromptTemplate.from_messages(\n",
    "        [(\"system\", system), (\"human\", \"{question}\")]\n",
    "    )\n",
    "    llm = ChatOpenAI(model=\"gpt-3.5-turbo-0125\", temperature=0)\n",
    "    structured_llm = llm.with_structured_output(YoutubeDBSearch)\n",
    "    query_analyzer = prompt | structured_llm\n",
    "    return query_analyzer.invoke(question)"
   ]
  },
  {
   "cell_type": "code",
   "execution_count": null,
   "metadata": {},
   "outputs": [],
   "source": [
    "# ---------- Test ----------\n",
    "\n",
    "query = get_youtube_db_query(\"A full course for langchain, 1 hour minimum\")\n",
    "\n",
    "query.pretty_print()"
   ]
  },
  {
   "cell_type": "markdown",
   "metadata": {},
   "source": [
    "### 2. Exercice : Base de données - Livres\n",
    "\n",
    "A vous de jouer !\n",
    "\n",
    "Vous devez transformer une entrée utilisateur non structurée en une requête structurée pour une bibliothèque en ligne. Voici la base de données de livres pour laquelle vous devez structurer les requêtes :\n",
    "\n",
    "| Title | Author | Category | Publication Date | Number of Pages | Summary |\n",
    "|-------|--------|----------|------------------|-----------------|---------|\n",
    "| ...   | ...    | ...      | ...              | ...             | ...     |\n",
    "\n",
    "**Objectif :** Créer une fonction qui transforme une entrée utilisateur en une requête structurée pour cette base de données de livres.\n",
    "\n",
    "\n",
    "**Instructions :**\n",
    "- Commencez par définir un schéma de requête `LibraryDBSearch` pour cette base de données :\n",
    "    - La recherche doit obligatoirement contenir des valeurs pour les attributs `Summary` et `Category`.\n",
    "    - Toutes les autres valeurs de recherche sont optionnelles\n",
    "- Créez la fonction `get_library_db_query` :\n",
    "    - Prend en entrée une requête utilisateur non structurée\n",
    "    - Retourne une recherche (un objet `LibraryDBSearch`)\n",
    "    - Utilisez les [Structured Output](https://python.langchain.com/v0.1/docs/modules/model_io/chat/structured_output/) pour utiliser votre schéma `LibraryDBSearch`.\n"
   ]
  },
  {
   "cell_type": "code",
   "execution_count": 16,
   "metadata": {},
   "outputs": [],
   "source": [
    "from typing import Optional\n",
    "\n",
    "from langchain_core.pydantic_v1 import BaseModel, Field\n",
    "\n",
    "\n",
    "\n",
    "class LibraryDBSearch(BaseModel):\n",
    "\n",
    "    summary_search: str = Field(\n",
    "        ...,\n",
    "        description=\"(Required) Similarity search query applied to book summaries.\",\n",
    "    )\n",
    "    \n",
    "    category_search: str = Field(\n",
    "        ...,\n",
    "        description=\"(Required) Search query applied to the category of the book.\",\n",
    "    )\n",
    "\n",
    "    title_search: Optional[str] = Field(\n",
    "        None,\n",
    "        description=\"Search query applied to the title of the book.\",\n",
    "    )\n",
    "\n",
    "    author_search: Optional[str] = Field(\n",
    "        None,\n",
    "        description=\"Search query applied to the author of the book.\",\n",
    "    )\n",
    "\n",
    "    earliest_publish_date: Optional[str] = Field(\n",
    "        None,\n",
    "        description=\"Earliest publish date filter, inclusive. Only use if explicitly specified.\",\n",
    "    )\n",
    "    latest_publish_date: Optional[str] = Field(\n",
    "        None,\n",
    "        description=\"Latest publish date filter, exclusive. Only use if explicitly specified.\",\n",
    "    )\n",
    "\n",
    "    min_page_count: Optional[int] = Field(\n",
    "        None,\n",
    "        description=\"Minimum page count filter, inclusive. Only use if explicitly specified.\",\n",
    "    )\n",
    "    max_page_count: Optional[int] = Field(\n",
    "        None,\n",
    "        description=\"Maximum page count filter, exclusive. Only use if explicitly specified.\",\n",
    "    )\n",
    "\n",
    "    def pretty_print(self) -> None:\n",
    "        for field in self.__fields__:\n",
    "            if getattr(self, field) is not None and getattr(self, field) != getattr(\n",
    "                self.__fields__[field], \"default\", None\n",
    "            ):\n",
    "                print(f\"{field}: {getattr(self, field)}\")\n",
    "\n",
    "def get_library_db_query(question):\n",
    "\n",
    "    system = \"\"\"You are an expert at converting user questions into database queries. \\\n",
    "    You have access to a database of books. \\\n",
    "    Given a question, return a database query optimized to retrieve the most relevant results. \\\n",
    "    Must include a search query for the book summary and the category of the book.\n",
    "    \"\"\"\n",
    "\n",
    "    prompt = ChatPromptTemplate.from_messages(\n",
    "        [(\"system\", system), (\"human\", \"{question}\")]\n",
    "    )\n",
    "    llm = ChatOpenAI(model=\"gpt-3.5-turbo-0125\", temperature=0)\n",
    "    structured_llm = llm.with_structured_output(LibraryDBSearch)\n",
    "    query_analyzer = prompt | structured_llm\n",
    "    return query_analyzer.invoke(question)"
   ]
  },
  {
   "cell_type": "code",
   "execution_count": null,
   "metadata": {},
   "outputs": [],
   "source": [
    "# ---------- Test ----------\n",
    "\n",
    "def get_query_and_print(question):\n",
    "    print('Question:', question)\n",
    "    query = get_library_db_query(question)\n",
    "    query.pretty_print()\n",
    "    print('\\n')\n",
    "\n",
    "get_query_and_print(\"Je cherche un livre de science-fiction écrit par Arthur Clarke publié après 1965.\")\n",
    "get_query_and_print(\"Je cherche un livre avec une histoire de magiciens.\")\n",
    "get_query_and_print(\"Je cherche un livre historique.\")"
   ]
  }
 ],
 "metadata": {
  "kernelspec": {
   "display_name": "Python 3 (ipykernel)",
   "language": "python",
   "name": "python3"
  },
  "language_info": {
   "codemirror_mode": {
    "name": "ipython",
    "version": 3
   },
   "file_extension": ".py",
   "mimetype": "text/x-python",
   "name": "python",
   "nbconvert_exporter": "python",
   "pygments_lexer": "ipython3",
   "version": "3.10.0"
  }
 },
 "nbformat": 4,
 "nbformat_minor": 2
}
