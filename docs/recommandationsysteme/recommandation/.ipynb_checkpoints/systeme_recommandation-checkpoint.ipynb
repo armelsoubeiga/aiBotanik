{
 "cells": [
  {
   "cell_type": "markdown",
   "id": "4bd2d773",
   "metadata": {},
   "source": [
    "# Système de recommandation\n"
   ]
  },
  {
   "cell_type": "code",
   "execution_count": 28,
   "id": "89f230c2",
   "metadata": {},
   "outputs": [],
   "source": [
    "# Chargement des packages\n",
    "\n",
    "import numpy as np\n",
    "import pandas as pd\n",
    "import difflib\n",
    "from sklearn.metrics.pairwise import cosine_similarity\n",
    "from sklearn.feature_extraction.text import CountVectorizer\n",
    "from fuzzywuzzy import fuzz\n",
    "import Levenshtein\n",
    "import nltk\n",
    "###########################################################\n",
    "#from sklearn.metrics.pairwise import linear_kernel\n",
    "#from googletrans import Translator as trasgo\n",
    "#import time\n",
    "#from pygoogletranslation import Translator as traspy\n",
    "#from sklearn.feature_extraction.text import TfidfVectorizer"
   ]
  },
  {
   "cell_type": "code",
   "execution_count": 11,
   "id": "32986844",
   "metadata": {},
   "outputs": [],
   "source": [
    "# importation de la base de donnée\n",
    "plant = pd.read_csv(\"baseplante_f.csv\", sep=\";\")\n",
    "#plant[\"maladiesoigneeparrecette\"] = plant[\"maladiesoigneeparrecette\"].str.cat(plant[\"maladiesoigneeparrecette_f\"], sep =\", \")"
   ]
  },
  {
   "cell_type": "markdown",
   "id": "6380bb52",
   "metadata": {},
   "source": [
    "## Création d'une fonction pour trouver la similarité entre deux chaînes (a, b)"
   ]
  },
  {
   "cell_type": "code",
   "execution_count": 3,
   "id": "f4afed12",
   "metadata": {},
   "outputs": [],
   "source": [
    "# sauvergarde de colonne important\n",
    "\n",
    "plant.drop(columns=[col for col in plant.columns if col not in ['maladiesoigneeparrecette','plante_recette','plante_partie_recette','plante_quantite_recette','recette_contreindication']], inplace=True)"
   ]
  },
  {
   "cell_type": "code",
   "execution_count": 12,
   "id": "399978f8",
   "metadata": {},
   "outputs": [],
   "source": [
    "count = CountVectorizer()\n",
    "count_matrix = count.fit_transform(plant['maladiesoigneeparrecette'])\n",
    "\n",
    "indices = pd.Series(plant['maladiesoigneeparrecette'])\n",
    "cosine_sim = cosine_similarity(count_matrix, count_matrix)\n",
    "#cosine_sim = linear_kernel(count_matrix, count_matrix)"
   ]
  },
  {
   "cell_type": "code",
   "execution_count": 56,
   "id": "dee7cb0d",
   "metadata": {},
   "outputs": [
    {
     "data": {
      "text/plain": [
       "array([0., 0., 0., 0., 0., 0., 0., 0., 0., 0., 0., 0., 0., 0., 0., 0., 0.,\n",
       "       0., 0., 0., 0., 0., 0., 0., 0., 0., 0., 0., 0., 0., 0., 0., 0., 0.,\n",
       "       0., 0., 0., 0., 0., 0., 0., 0., 0., 0., 0., 0., 0., 0., 0., 0., 0.,\n",
       "       0., 0., 0., 0., 0., 0., 0., 0., 0., 0., 0., 0., 0., 0., 0., 0., 0.,\n",
       "       0., 0., 0., 0., 0., 0., 0., 0., 0., 0., 0., 0., 0., 0., 0., 0., 0.,\n",
       "       0., 0., 0., 0., 0., 0., 0., 0., 0., 0., 0., 0., 0., 0., 0., 0., 0.,\n",
       "       0., 0., 0., 1., 0., 0., 0., 0., 0., 0., 0., 0., 0., 0., 0., 0.])"
      ]
     },
     "execution_count": 56,
     "metadata": {},
     "output_type": "execute_result"
    }
   ],
   "source": [
    "#essai1 = plant['maladiesoigneeparrecette'].str.lower().copy()\n",
    "cosine_sim[105]"
   ]
  },
  {
   "cell_type": "code",
   "execution_count": 174,
   "id": "b1eebabd",
   "metadata": {},
   "outputs": [],
   "source": [
    "#essai2 = plant[\"maladiesoigneeparrecette\"].str.upper()"
   ]
  },
  {
   "cell_type": "code",
   "execution_count": 175,
   "id": "93726aca",
   "metadata": {},
   "outputs": [],
   "source": [
    "#essai3 = pd.Series(essai2.str.cat(essai1, sep =\", \"))"
   ]
  },
  {
   "cell_type": "code",
   "execution_count": 5,
   "id": "50777ec5",
   "metadata": {},
   "outputs": [],
   "source": [
    "#TfidfVec = TfidfVectorizer(ngram_range = (1,2))\n",
    "\n",
    "# Convert the text to a matrix of TF-IDF features\n",
    "#tfidf = TfidfVec.fit_transform(plant)\n",
    "# feature_names = TfidfVec.get_feature_names()\n"
   ]
  },
  {
   "cell_type": "code",
   "execution_count": 6,
   "id": "3fa9828f",
   "metadata": {},
   "outputs": [],
   "source": [
    "# creating a cosine similarity matrix from Tf-IDF vectors\n",
    "# cosine_sim = cosine_similarity(tfidf,tfidf)"
   ]
  },
  {
   "cell_type": "code",
   "execution_count": 16,
   "id": "53caa7f8",
   "metadata": {},
   "outputs": [],
   "source": [
    "#indices = pd.DataFrame(indices)\n",
    "#indices = pd.Series(plant.index)\n",
    "#indices = pd.DataFrame(indices)\n",
    "#b = pd.Series(plant['maladiesoigneeparrecette'])"
   ]
  },
  {
   "cell_type": "code",
   "execution_count": 43,
   "id": "19af0e43",
   "metadata": {},
   "outputs": [
    {
     "name": "stdout",
     "output_type": "stream",
     "text": [
      "0.3\n"
     ]
    }
   ],
   "source": [
    "from  difflib  import  SequenceMatcher \n",
    "\n",
    "def  compare_mots(a,  b):\n",
    "     matcher  =  SequenceMatcher(None,  a,  b)\n",
    "     match_blocks  =  matcher.get_matching_blocks()\n",
    "\n",
    "     mots_a  =  a.split()\n",
    "     mots_b  =  b.split()\n",
    "\n",
    "     similarite_totale  =  0.0\n",
    "\n",
    "     for  match_block  in  match_blocks :\n",
    "         i,  j,  size  =  match_block\n",
    "         mots_similaires  =  mots_a[i:i+size]\n",
    "         similarite_totale  +=  len(mots_similaires)\n",
    "\n",
    "     similarite_moyenne  = similarite_totale  /  (len(mots_a)  +  len(mots_b))\n",
    "     return  similarite_moyenne \n",
    "    \n",
    "#  Exemple  d'utilisation \n",
    "    \n",
    "texte1  =  \"Le  chat  mange  une  souris\" \n",
    "texte2  =  \"Un  chien  dévore  un  rat\" \n",
    "similarite  =  compare_mots(texte1,  texte2) \n",
    "print(similarite) "
   ]
  },
  {
   "cell_type": "markdown",
   "id": "45ef3a8b",
   "metadata": {},
   "source": [
    "## Création de notre fonction de recommandation"
   ]
  },
  {
   "cell_type": "code",
   "execution_count": 58,
   "id": "67f78f52",
   "metadata": {},
   "outputs": [],
   "source": [
    "# fonction de calcul de la similarité\n",
    "\n",
    "def simila(a, b):\n",
    "            pro =[]\n",
    "            aa = a.upper() + \" \" + a.lower()\n",
    "            for i in b.index:\n",
    "                bb = b[i].upper() + \" \" + b[i].lower()\n",
    "                seq = compare_mots(aa, bb)*100\n",
    "                #rat= seq.ratio()*100\n",
    "                pro.append(seq)\n",
    "            #idx = pro.index(max(pro))\n",
    "            return(pro)"
   ]
  },
  {
   "cell_type": "code",
   "execution_count": 59,
   "id": "baa1c51e",
   "metadata": {},
   "outputs": [
    {
     "data": {
      "text/plain": [
       "[0.0,\n",
       " 20.0,\n",
       " 20.0,\n",
       " 7.142857142857142,\n",
       " 28.57142857142857,\n",
       " 20.0,\n",
       " 14.285714285714285,\n",
       " 20.0,\n",
       " 20.0,\n",
       " 10.0,\n",
       " 20.0,\n",
       " 20.0,\n",
       " 12.5,\n",
       " 20.0,\n",
       " 20.0,\n",
       " 35.714285714285715,\n",
       " 35.714285714285715,\n",
       " 35.714285714285715,\n",
       " 35.714285714285715,\n",
       " 35.714285714285715,\n",
       " 25.0,\n",
       " 12.5,\n",
       " 25.0,\n",
       " 12.5,\n",
       " 25.0,\n",
       " 12.5,\n",
       " 0.0,\n",
       " 25.0,\n",
       " 12.5,\n",
       " 25.0,\n",
       " 12.5,\n",
       " 21.428571428571427,\n",
       " 21.428571428571427,\n",
       " 21.428571428571427,\n",
       " 20.0,\n",
       " 20.0,\n",
       " 20.0,\n",
       " 20.0,\n",
       " 20.0,\n",
       " 0.0,\n",
       " 20.0,\n",
       " 25.0,\n",
       " 25.0,\n",
       " 25.0,\n",
       " 25.0,\n",
       " 25.0,\n",
       " 20.0,\n",
       " 20.0,\n",
       " 20.0,\n",
       " 20.0,\n",
       " 0.0,\n",
       " 20.0,\n",
       " 20.0,\n",
       " 20.0,\n",
       " 20.0,\n",
       " 20.0,\n",
       " 20.0,\n",
       " 20.0,\n",
       " 20.0,\n",
       " 20.0,\n",
       " 20.0,\n",
       " 0.0,\n",
       " 20.0,\n",
       " 20.0,\n",
       " 20.0,\n",
       " 21.428571428571427,\n",
       " 21.428571428571427,\n",
       " 20.0,\n",
       " 20.0,\n",
       " 20.0,\n",
       " 20.0,\n",
       " 20.0,\n",
       " 20.0,\n",
       " 20.0,\n",
       " 0.0,\n",
       " 20.0,\n",
       " 20.0,\n",
       " 20.0,\n",
       " 20.0,\n",
       " 25.0,\n",
       " 25.0,\n",
       " 11.11111111111111,\n",
       " 21.428571428571427,\n",
       " 21.428571428571427,\n",
       " 15.0,\n",
       " 0.0,\n",
       " 20.0,\n",
       " 7.142857142857142,\n",
       " 30.0,\n",
       " 30.0,\n",
       " 30.0,\n",
       " 12.5,\n",
       " 12.5,\n",
       " 28.57142857142857,\n",
       " 28.57142857142857,\n",
       " 28.57142857142857,\n",
       " 0.0,\n",
       " 25.0,\n",
       " 0.0,\n",
       " 18.75,\n",
       " 18.75,\n",
       " 20.0,\n",
       " 0.0,\n",
       " 0.0,\n",
       " 16.666666666666664,\n",
       " 40.0,\n",
       " 14.285714285714285,\n",
       " 20.0,\n",
       " 20.0,\n",
       " 22.22222222222222,\n",
       " 14.285714285714285,\n",
       " 18.75,\n",
       " 20.0,\n",
       " 20.0,\n",
       " 25.0,\n",
       " 13.636363636363635,\n",
       " 27.77777777777778,\n",
       " 20.0]"
      ]
     },
     "execution_count": 59,
     "metadata": {},
     "output_type": "execute_result"
    }
   ],
   "source": [
    "a = \"je suis malade\"\n",
    "b = indices\n",
    "simila(a, b)"
   ]
  },
  {
   "cell_type": "code",
   "execution_count": 62,
   "id": "bbc486f6",
   "metadata": {},
   "outputs": [
    {
     "data": {
      "text/plain": [
       "'sinusitis, sinusites'"
      ]
     },
     "execution_count": 62,
     "metadata": {},
     "output_type": "execute_result"
    }
   ],
   "source": [
    "indices[105]"
   ]
  },
  {
   "cell_type": "code",
   "execution_count": 40,
   "id": "740ef9b1",
   "metadata": {},
   "outputs": [],
   "source": [
    "def simila(a, b):\n",
    "            pro =[]\n",
    "            aa = a.upper() + \" \" + a.lower()\n",
    "            for i in b.index:\n",
    "                bb = b[i].upper() + \" \" + b[i].lower()\n",
    "                rat= fuzz.partial_ratio(aa, bb)*100\n",
    "                #rat= Levenshtein.ratio(a.upper(), b[i].upper())*100\n",
    "                pro.append(rat)\n",
    "            idx = pro.index(max(pro))\n",
    "            return(idx)"
   ]
  },
  {
   "cell_type": "code",
   "execution_count": 53,
   "id": "240db0b2",
   "metadata": {},
   "outputs": [],
   "source": [
    "# fonction de recommandation en anglais\n",
    "\n",
    "def recommendations(maladie):\n",
    "   \n",
    "            nltk.download(\"stopwords\")\n",
    "            nltk.download('punkt')\n",
    "    \n",
    "            recommended_maladiesoigneeparrecette = []\n",
    "            score_series = []\n",
    "            nb = []\n",
    "            recommended_maladie_soignee = []\n",
    "            recommended_plante_recette = []\n",
    "            recommended_plante_partie_recette = []\n",
    "            recommended_plante_quantite_recette = []\n",
    "            recommended_recette_contreindication = []\n",
    "      \n",
    "            try:\n",
    "                idx = simila(maladie, indices)\n",
    "                #idx = indices[indices == maladie].index[0]\n",
    "            except:\n",
    "                res = \"Cette maladie n'est pas enregistré dans notre base de données\"\n",
    "                maladiesoigneeparrecette = 'NaN'\n",
    "                plante_recette = 'NaN'\n",
    "                return res, ['0'], maladiesoigneeparrecette, plante_recette\n",
    "            \n",
    "            # creating a Series with the similarity scores in descending order\n",
    "            score_series = pd.Series(cosine_sim[idx]).sort_values(ascending=False)\n",
    "            \n",
    "            # nb = (score_series>=1).sum()\n",
    "            top_3_indexes = list(score_series.iloc[0:10].index)\n",
    "            for i in top_3_indexes:\n",
    "                recommended_maladiesoigneeparrecette.append(list(plant.index)[i])\n",
    "                recommended_maladie_soignee.append(plant['maladiesoigneeparrecette'][i])\n",
    "                recommended_plante_recette.append(plant['plante_recette'][i])\n",
    "                recommended_plante_partie_recette.append(plant['plante_partie_recette'][i])\n",
    "                recommended_plante_quantite_recette.append(plant['plante_quantite_recette'][i])\n",
    "                recommended_recette_contreindication.append(plant['recette_contreindication'][i])\n",
    "               \n",
    "            return recommended_maladiesoigneeparrecette, score_series[0:10], recommended_maladie_soignee, recommended_plante_recette, recommended_plante_partie_recette, recommended_plante_quantite_recette, recommended_recette_contreindication"
   ]
  },
  {
   "cell_type": "markdown",
   "id": "b4fff1c3",
   "metadata": {},
   "source": [
    "#### Testons notre algorithme de recommandation"
   ]
  },
  {
   "cell_type": "code",
   "execution_count": 54,
   "id": "0aa4f7a7",
   "metadata": {},
   "outputs": [
    {
     "name": "stderr",
     "output_type": "stream",
     "text": [
      "[nltk_data] Downloading package stopwords to\n",
      "[nltk_data]     C:\\Users\\PARE_TOUDALA\\AppData\\Roaming\\nltk_data...\n",
      "[nltk_data]   Package stopwords is already up-to-date!\n",
      "[nltk_data] Downloading package punkt to\n",
      "[nltk_data]     C:\\Users\\PARE_TOUDALA\\AppData\\Roaming\\nltk_data...\n",
      "[nltk_data]   Package punkt is already up-to-date!\n"
     ]
    },
    {
     "data": {
      "text/plain": [
       "([30, 28, 25, 23, 21, 90, 88, 87, 86, 85],\n",
       " 30    1.0\n",
       " 28    1.0\n",
       " 25    1.0\n",
       " 23    1.0\n",
       " 21    1.0\n",
       " 90    0.0\n",
       " 88    0.0\n",
       " 87    0.0\n",
       " 86    0.0\n",
       " 85    0.0\n",
       " dtype: float64,\n",
       " ['inflammation',\n",
       "  'inflammation',\n",
       "  'inflammation',\n",
       "  'inflammation',\n",
       "  'inflammation',\n",
       "  'HIV/AIDS, VIH/SIDA',\n",
       "  'HIV/AIDS, VIH/SIDA',\n",
       "  'female infertility, infertilité féminine',\n",
       "  'dysmenorrhea, dysménorrhée',\n",
       "  'malaria, paludisme'],\n",
       " ['Balanites aegyptiaca; Harpagophytum procumbens; Securidaca longepedunculata',\n",
       "  'Adansonia digitata; Maytenus senegalensis; Trichilia emetica; Zanthoxylum zanthoxyloides',\n",
       "  'Cassia sieberiana; Ficus exasperata; Paullinia pinnata',\n",
       "  'Azadirachta indica; Capsicum frutescens; Cassia sieberiana',\n",
       "  'Alstonia boonei; Cassia sieberiana; Trichilia monadelpha',\n",
       "  'Allium sativum; Aloe vera; Daucus carota',\n",
       "  'Guiera senegalensis; Moringa oleifera; Spirulina platensis; Zanthoxylum xanthoxyloides',\n",
       "  'Nauclea latifolia; Ximenia americana; Xylopia aethiopica',\n",
       "  'Alchornea cordifolia; Maytenus senegalensis; Ocimum basilicum; Trichilia emetica',\n",
       "  'Azadirachta indica; Cochlospermun tinctorium; Nauclea pobeguinii; Vernonia colorata'],\n",
       " ['Balanites aegyptiaca :  Stem bark; Harpagophytum procumbens :  Root; Securidaca longepedunculata :  Root',\n",
       "  'Adansonia digitata :  Stem bark; Maytenus senegalensis :  Leaves; Trichilia emetica :  Stem bark; Zanthoxylum zanthoxyloides :  Stem bark',\n",
       "  'Cassia sieberiana :  Stem bark; Ficus exasperata :  Stem bark; Paullinia pinnata :  Root',\n",
       "  'Azadirachta indica :  Leaves; Capsicum frutescens :  Fruit; Cassia sieberiana :  Stem bark',\n",
       "  'Alstonia boonei :  Stem bark; Cassia sieberiana :  Stem bark; Trichilia monadelpha :  Stem bark',\n",
       "  'Allium sativum :  Bulb; Aloe vera :  Juice; Daucus carota :  Root',\n",
       "  'Guiera senegalensis :  Leaves; Moringa oleifera :  Leaves; Spirulina platensis :  Leaves; Zanthoxylum xanthoxyloides :  Root bark',\n",
       "  'Nauclea latifolia :  Root; Ximenia americana :  Stem bark; Xylopia aethiopica :  Fruit',\n",
       "  'Alchornea cordifolia :  Leaves; Maytenus senegalensis :  Leaves; Ocimum basilicum :  NULL; Trichilia emetica :  Stem bark',\n",
       "  'Azadirachta indica :  Leaves; Cochlospermun tinctorium :  Leaves; Nauclea pobeguinii :  Root; Vernonia colorata :  Leaves'],\n",
       " ['Balanites aegyptiaca :  40; Harpagophytum procumbens :  30; Securidaca longepedunculata :  30',\n",
       "  'Adansonia digitata :  20; Maytenus senegalensis :  20; Trichilia emetica :  30; Zanthoxylum zanthoxyloides :  30',\n",
       "  'Cassia sieberiana :  25; Ficus exasperata :  25; Paullinia pinnata :  50',\n",
       "  'Azadirachta indica :  50; Capsicum frutescens :  10; Cassia sieberiana :  40',\n",
       "  'Alstonia boonei :  15; Cassia sieberiana :  55; Trichilia monadelpha :  30',\n",
       "  'Allium sativum :  10; Aloe vera :  40; Daucus carota :  50',\n",
       "  'Guiera senegalensis :  30; Moringa oleifera :  20; Spirulina platensis :  20; Zanthoxylum xanthoxyloides :  30',\n",
       "  'Nauclea latifolia :  40; Ximenia americana :  50; Xylopia aethiopica :  10',\n",
       "  'Alchornea cordifolia :  20; Maytenus senegalensis :  30; Ocimum basilicum :  20; Trichilia emetica :  30',\n",
       "  'Azadirachta indica :  30; Cochlospermun tinctorium :  20; Nauclea pobeguinii :  40; Vernonia colorata :  10'],\n",
       " ['Child under 12; Renal disease known or hepatic; a mother who is producing milk and breastfeeding; pregnancy',\n",
       "  'Child under 12; Renal disease known or hepatic; a mother who is producing milk and breastfeeding; pregnancy',\n",
       "  'Child under 12; Renal disease known or hepatic; a mother who is producing milk and breastfeeding; pregnancy',\n",
       "  'Child under 12; Renal disease known or hepatic; a mother who is producing milk and breastfeeding; pregnancy',\n",
       "  'Child under 12; Persons with erythrocyte glucose 6-phosphate dehydrogenase genetic deficiency; a mother who is producing milk and breastfeeding; pregnancy',\n",
       "  nan,\n",
       "  'Child under 12; a mother who is producing milk and breastfeeding; pregnancy',\n",
       "  'Renal disease known or hepatic',\n",
       "  'Renal disease known or hepatic',\n",
       "  'Child under 12; Renal disease known or hepatic; a mother who is producing milk and breastfeeding; pregnancy'])"
      ]
     },
     "execution_count": 54,
     "metadata": {},
     "output_type": "execute_result"
    }
   ],
   "source": [
    "nommaladie = \"malaria\"\n",
    "recommendations(nommaladie)"
   ]
  },
  {
   "cell_type": "markdown",
   "id": "52f3bab0",
   "metadata": {},
   "source": [
    "#### indices"
   ]
  },
  {
   "cell_type": "code",
   "execution_count": 123,
   "id": "41894798",
   "metadata": {},
   "outputs": [
    {
     "data": {
      "text/plain": [
       "0"
      ]
     },
     "execution_count": 123,
     "metadata": {},
     "output_type": "execute_result"
    }
   ],
   "source": [
    "a=\"je veux la recette du malaria\"\n",
    "simila(a, indices)"
   ]
  },
  {
   "cell_type": "code",
   "execution_count": 148,
   "id": "8852d32a",
   "metadata": {},
   "outputs": [],
   "source": [
    "a = \"je veux HIV/AIDS\"\n",
    "b = \"HIV/AIDS\""
   ]
  },
  {
   "cell_type": "code",
   "execution_count": 149,
   "id": "33ba3b14",
   "metadata": {},
   "outputs": [
    {
     "data": {
      "text/plain": [
       "0.6666666666666666"
      ]
     },
     "execution_count": 149,
     "metadata": {},
     "output_type": "execute_result"
    }
   ],
   "source": [
    "difflib.SequenceMatcher(None, a.lower(), b.lower()).ratio()"
   ]
  },
  {
   "cell_type": "code",
   "execution_count": null,
   "id": "a9937374",
   "metadata": {},
   "outputs": [],
   "source": []
  },
  {
   "cell_type": "code",
   "execution_count": null,
   "id": "c2efd0cd",
   "metadata": {},
   "outputs": [],
   "source": []
  },
  {
   "cell_type": "code",
   "execution_count": null,
   "id": "b798af10",
   "metadata": {},
   "outputs": [],
   "source": []
  },
  {
   "cell_type": "code",
   "execution_count": null,
   "id": "53bc0235",
   "metadata": {},
   "outputs": [],
   "source": []
  }
 ],
 "metadata": {
  "kernelspec": {
   "display_name": "Python 3 (ipykernel)",
   "language": "python",
   "name": "python3"
  },
  "language_info": {
   "codemirror_mode": {
    "name": "ipython",
    "version": 3
   },
   "file_extension": ".py",
   "mimetype": "text/x-python",
   "name": "python",
   "nbconvert_exporter": "python",
   "pygments_lexer": "ipython3",
   "version": "3.9.12"
  }
 },
 "nbformat": 4,
 "nbformat_minor": 5
}
